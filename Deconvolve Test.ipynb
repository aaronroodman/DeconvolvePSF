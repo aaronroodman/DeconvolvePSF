{
 "cells": [
  {
   "cell_type": "markdown",
   "metadata": {},
   "source": [
    "I believe that my implementation of the Lucy-Richardson deconvolution isn't perfect. This notebook is to test the effects."
   ]
  },
  {
   "cell_type": "code",
   "execution_count": 101,
   "metadata": {
    "collapsed": true
   },
   "outputs": [],
   "source": [
    "%matplotlib inline\n",
    "\n",
    "import numpy as np\n",
    "import matplotlib.pyplot as plt\n",
    "from astropy.io import fits\n",
    "import pandas as pd\n",
    "from DeconvolvePSF.lucy import convolve, convolveStar, makeGaussian, calcChi2\n",
    "from subprocess import check_output\n",
    "from itertools import izip\n",
    "\n",
    "import scipy\n",
    "import numpy.lib.index_tricks as itricks\n",
    "import pdb\n",
    "from WavefrontPSF.psf_evaluator import Moment_Evaluator\n",
    "#from scipy.signal import convolve2d as convolve\n",
    "#from DeconvolvePSF.lucy import deconvolve"
   ]
  },
  {
   "cell_type": "code",
   "execution_count": 102,
   "metadata": {
    "collapsed": false
   },
   "outputs": [
    {
     "name": "stdout",
     "output_type": "stream",
     "text": [
      "149440\n"
     ]
    }
   ],
   "source": [
    "# these give the deconvolved stars\n",
    "out_base = '/nfs/slac/g/ki/ki18/des/swmclau2/DeconvOutput/'\n",
    "\n",
    "dir_str = check_output('ls -d %s*/'%out_base, shell = True) #get all the directories in our output dir\n",
    "dir_list = dir_str.split('/\\n')[:-1]#skip the lsat one, its ''\n",
    "\n",
    "expids = [int(direc.lstrip('%s'%out_base) ) for direc in dir_list]\n",
    "expids = sorted(expids)\n",
    "bad_expid_idxs = [2,5, 6]\n",
    "#14\n",
    "#5\n",
    "expid = expids[5]\n",
    "#expid = 179966\n",
    "print(expid)\n",
    "\n",
    "#out_base = '/nfs/slac/g/ki/ki18/des/cpd/DeconvOutput/'\n",
    "deconv_dir = out_base + '{0:08d}'.format(expid)\n",
    "# not sure what stars these really are? the combined psfex + deconv?\n",
    "deconvmodel_loc = out_base + '{0:08d}/{0}_stars.npy'.format(expid)\n",
    "deconvopt_loc = out_base + '{0:08d}/{0}_opt.npy'.format(expid)\n",
    "deconvatm_loc = out_base + '{0:08d}/{0}_atm.npy'.format(expid)\n",
    "deconvstarsminusopt_loc = out_base + '{0:08d}/{0}_stars_minus_opt.npy'.format(expid)\n",
    "deconvdata_loc = out_base + '{0:08d}/{0}_data.npy'.format(expid)\n",
    "deconvpsfex_loc = out_base + '{0:08d}/{0}_psfexalone.npy'.format(expid)\n",
    "deconvdf_loc = out_base + '{0:08d}/results.h5'.format(expid)\n",
    "deconvdf_key = 'table_{0:08d}'.format(expid)\n",
    "\n",
    "deconvopt_immediate_loc = '/nfs/slac/g/ki/ki18/des/swmclau2/DeconvOutput/{0:08d}/{0}_opt_test.npy'.format(expid)\n",
    "\n",
    "jamierod_results_path = '/nfs/slac/g/ki/ki18/des/cpd/jamierod_results.csv'\n",
    "mesh_directory = '/nfs/slac/g/ki/ki22/roodman/ComboMeshesv20'\n",
    "# directory containing the input data files\n",
    "base_directory = '/nfs/slac/g/ki/ki18/des/cpd/psfex_catalogs/SVA1_FINALCUT/psfcat/'"
   ]
  },
  {
   "cell_type": "code",
   "execution_count": 103,
   "metadata": {
    "collapsed": false
   },
   "outputs": [],
   "source": [
    "#Look I'm a comment this isn't rawnb\n",
    "atmpsf = np.load(deconvatm_loc)\n",
    "optpsf = np.load(deconvopt_loc)\n",
    "starminusopt = np.load(deconvstarsminusopt_loc)\n",
    "model = np.load(deconvmodel_loc)\n",
    "psfexpsf = np.load(deconvpsfex_loc)\n",
    "stars = np.load(deconvdata_loc)\n",
    "\n",
    "df = pd.read_hdf(deconvdf_loc, deconvdf_key)"
   ]
  },
  {
   "cell_type": "code",
   "execution_count": 104,
   "metadata": {
    "collapsed": true
   },
   "outputs": [],
   "source": [
    "def deconvolve(PSF,phi_tilde,psi_0=None,mask=None,mu0=0.0,niterations=10,convergence=-1,chi2Level=0.0,extra=False):\n",
    "    \"\"\" Implementation of the Richardson-Lucy deconvolution algorithm.\n",
    "    Notation follows Lucy 1974, Eqn 15 and 14.  Add  noise term following\n",
    "    Snyder et al 1993.\n",
    "    Arguments\n",
    "    ---------\n",
    "    PSF          known Point Spread Function\n",
    "    phi_tilde    measured object\n",
    "    psi_0        starting guess for deconvolution\n",
    "    mask         =0 for bins where we know that recovered image has no flux \n",
    "    mu0          background noise estimate\n",
    "    \"\"\"\n",
    "\n",
    "    # normalize PSF\n",
    "    PSF = PSF / np.sum(PSF)\n",
    "\n",
    "    # if no initial guess, make one from 2nd moments of input image - PSF\n",
    "    if psi_0 is None:\n",
    "        # calculate Moments of psi_tilde and PSF, subtract and\n",
    "\n",
    "        # calculate moments\n",
    "        evaluator = Moment_Evaluator()\n",
    "\n",
    "        # try a better starting guess - based on our knowledge of the PSF\n",
    "        image_moments = evaluator(phi_tilde)\n",
    "        PSF_moments = evaluator(PSF)\n",
    "\n",
    "        #TODO what to do if makeGaussian throws an error?\n",
    "        # subtract 2nd order moments in quadrature, use an object with the difference\n",
    "        Mxx = image_moments['Mxx'][0] - PSF_moments['Mxx'][0]\n",
    "        Myy = image_moments['Myy'][0] - PSF_moments['Myy'][0]\n",
    "        Mxy = image_moments['Mxy'][0] - PSF_moments['Mxy'][0]\n",
    "\n",
    "        psi_r = makeGaussian(phi_tilde.shape,Mxx,Myy,Mxy)\n",
    "        #sometimes this fails if the observation is too non-gaussian\n",
    "        if np.any(np.logical_or( np.isinf(psi_r), np.isnan(psi_r))):\n",
    "            psi_r = phi_tilde #trying this out; otherwise we'll just have to raise errors/hell\n",
    "        \n",
    "    else:\n",
    "        # initial guess\n",
    "        psi_r = np.abs(psi_0)\n",
    "\n",
    "    # mask starting guess\n",
    "    if mask != None:    \n",
    "        psi_r = psi_r * mask\n",
    "\n",
    "    # normalize starting guess\n",
    "    psi_r = psi_r / np.sum(psi_r)\n",
    "    \n",
    "    #TODO Maybe this should be an error instead of a warning.\n",
    "    if np.any(np.isnan(psi_r)):\n",
    "        raise RuntimeWarning(\"NaN in initial guess, skip this value. \")\n",
    "                \n",
    "    # mask image too\n",
    "    if mask != None:\n",
    "        phi_tilde = phi_tilde * mask\n",
    "        \n",
    "    # find normalization for measured image\n",
    "    beta = np.sum(phi_tilde)\n",
    "        \n",
    "        \n",
    "    # now iterate, either until convergence reached or fixed number of iterations are done\n",
    "    psiByIter = []\n",
    "    diffByIter = []\n",
    "    chi2ByIter = []\n",
    "    iteration = 0\n",
    "    continueTheLoop = True\n",
    "    \n",
    "    diff_sums = []\n",
    "    \n",
    "    while continueTheLoop: \n",
    "        \n",
    "        #plt.imshow(psi_r,interpolation = 'None')\n",
    "        #plt.show()\n",
    "        \n",
    "        # calculate next approximation to psi\n",
    "        phi_r = beta*convolve(psi_r,PSF) + mu0\n",
    "        psi_rplus1 = psi_r * convolveStar((phi_tilde+mu0)/phi_r,PSF)\n",
    "\n",
    "        # mask the next iteration\n",
    "        if mask != None:\n",
    "            psi_rplus1 = psi_rplus1 * mask\n",
    "        \n",
    "        # normalize it\n",
    "        psi_rplus1 = psi_rplus1 / np.sum(psi_rplus1)\n",
    "\n",
    "        # check for convergence if desired\n",
    "        #Why are the psiByIter appends inside the convergence test?\n",
    "        if convergence>0:\n",
    "            # compare psi_r and psi_rplus1\n",
    "            psiByIter.append(psi_rplus1)\n",
    "            diff = np.sum(np.abs(psi_rplus1 - psi_r))\n",
    "            print diff\n",
    "            diffByIter.append(diff)\n",
    "            if diff<convergence:\n",
    "                continueTheLoop = False\n",
    "\n",
    "        # also calculate how close to a solution we are\n",
    "        chi2 = calcChi2(PSF,psi_rplus1,phi_tilde,beta,mu0)\n",
    "        chi2ByIter.append(chi2)\n",
    "        if chi2<chi2Level:\n",
    "            continueTheLoop = False\n",
    "        \n",
    "        # check for Chi2 level\n",
    "                \n",
    "\n",
    "        # always check number of iterations\n",
    "        if iteration==niterations-1:\n",
    "            continueTheLoop = False\n",
    "            \n",
    "        diff_sum = np.abs((psi_rplus1-psi_r).sum() )\n",
    "        #print diff_sum\n",
    "        diff_sums.append(diff_sum)\n",
    "\n",
    "        # save for next iteration\n",
    "        iteration+=1     \n",
    "        psi_r = np.array(psi_rplus1)  # does a deepcopy\n",
    "\n",
    "\n",
    "    #TODO rescale deconv by flux\n",
    "\n",
    "    # we are done!\n",
    "    if extra:\n",
    "        return psi_rplus1,diffByIter,psiByIter,chi2ByIter\n",
    "    else:\n",
    "        \n",
    "        diff_sums = np.array(diff_sums)\n",
    "        \n",
    "        #print diff_sums.mean(), diff_sums.std()\n",
    "        \n",
    "        return psi_rplus1  "
   ]
  },
  {
   "cell_type": "raw",
   "metadata": {
    "collapsed": false
   },
   "source": [
    "reconvpsf = np.zeros((optpsf.shape[0], 32,32))\n",
    "for idx, (opt, resid) in enumerate(izip(optpsf, starminusopt)):\n",
    "    #reconvpsf[idx] = convolve(opt, resid, mode = 'same')\n",
    "    reconvpsf[idx] = convolve(opt, resid[15:47, 15:47])\n",
    "#reconvpsf = convolve(optpsf, starminusopt[:, 15:47, 15:47])"
   ]
  },
  {
   "cell_type": "raw",
   "metadata": {
    "collapsed": false
   },
   "source": [
    "opt2psf = np.zeros((optpsf.shape[0], 32,32))\n",
    "for idx, (mod, atm) in enumerate(izip(model, atmpsf)):\n",
    "    opt2psf[idx] = deconvolve(atm, mod,psi_0=mod,mask=None,mu0=6e3,convergence=1e-9,chi2Level=0.,niterations=50, extra= False)\n",
    "#reconvpsf = convolve(optpsf, starminusopt[:, 15:47, 15:47])"
   ]
  },
  {
   "cell_type": "code",
   "execution_count": 105,
   "metadata": {
    "collapsed": false
   },
   "outputs": [
    {
     "name": "stdout",
     "output_type": "stream",
     "text": [
      "6.12470099721e-08\n"
     ]
    },
    {
     "data": {
      "text/plain": [
       "<matplotlib.image.AxesImage at 0x7fb6bddec750>"
      ]
     },
     "execution_count": 105,
     "metadata": {},
     "output_type": "execute_result"
    },
    {
     "data": {
      "image/png": "[encoded data removed]",
      "text/plain": [
       "<matplotlib.figure.Figure at 0x7fb6be8d99d0>"
      ]
     },
     "metadata": {},
     "output_type": "display_data"
    }
   ],
   "source": [
    "idx = 0\n",
    "dec = deconvolve(atmpsf[idx], model[idx],psi_0=None,mask=None,mu0=6e3,convergence=1e-3,chi2Level=0.,niterations=50, extra= False)\n",
    "fig = plt.figure(figsize = (10,10))\n",
    "\n",
    "plt.subplot(222)\n",
    "plt.title('ATM')\n",
    "plt.imshow(atmpsf[idx], interpolation = 'None')\n",
    "plt.subplot(221)\n",
    "plt.title('Model')\n",
    "plt.imshow(model[idx], interpolation = 'None')\n",
    "plt.subplot(223)\n",
    "plt.title('Opt Resid')\n",
    "plt.imshow(dec, interpolation = 'None')\n",
    "plt.subplot(224)\n",
    "plt.title('Opt Real')\n",
    "plt.imshow(optpsf[idx], interpolation = 'None')"
   ]
  },
  {
   "cell_type": "code",
   "execution_count": 106,
   "metadata": {
    "collapsed": false
   },
   "outputs": [
    {
     "name": "stdout",
     "output_type": "stream",
     "text": [
      "/u/ki/swmclau2/Git/DeconvolvePSF\n"
     ]
    }
   ],
   "source": [
    "%%bash\n",
    "pwd"
   ]
  },
  {
   "cell_type": "code",
   "execution_count": null,
   "metadata": {
    "collapsed": true
   },
   "outputs": [],
   "source": []
  }
 ],
 "metadata": {
  "kernelspec": {
   "display_name": "Python 2",
   "language": "python",
   "name": "python2"
  },
  "language_info": {
   "codemirror_mode": {
    "name": "ipython",
    "version": 2
   },
   "file_extension": ".py",
   "mimetype": "text/x-python",
   "name": "python",
   "nbconvert_exporter": "python",
   "pygments_lexer": "ipython2",
   "version": "2.7.11"
  }
 },
 "nbformat": 4,
 "nbformat_minor": 0
}
